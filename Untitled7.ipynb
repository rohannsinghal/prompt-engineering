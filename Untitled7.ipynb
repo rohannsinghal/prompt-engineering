{
 "cells": [
  {
   "cell_type": "code",
   "execution_count": 1,
   "id": "a61ee7d8",
   "metadata": {},
   "outputs": [
    {
     "name": "stdout",
     "output_type": "stream",
     "text": [
      "नमस्ते, आप कैसे हैं?\n"
     ]
    }
   ],
   "source": [
    "import openai\n",
    "\n",
    "# Replace with your OpenAI API key\n",
    "openai.api_key = 'sk-rohannsinghal-AxxxxxxiLKUYCgUT3BlbkFJilXlE04RxH5VKNcIpGSp'\n",
    "\n",
    "def get_completion(prompt):\n",
    "    response = openai.ChatCompletion.create(\n",
    "        model=\"gpt-3.5-turbo\",\n",
    "        messages=[\n",
    "            {\"role\": \"system\", \"content\": \"You are a helpful assistant.\"},\n",
    "            {\"role\": \"user\", \"content\": prompt},\n",
    "        ],\n",
    "        max_tokens=60,  # Since the task is simple, fewer tokens should suffice\n",
    "        temperature=0.7,\n",
    "    )\n",
    "    return response.choices[0].message['content'].strip()\n",
    "\n",
    "prompt = \"\"\"\n",
    "Transform the given sentence into Hindi:\n",
    "hi how are you doing?\n",
    "\"\"\"\n",
    "\n",
    "response = get_completion(prompt)\n",
    "print(response)  # Ensure that print is not redefined elsewhere in your code.\n"
   ]
  },
  {
   "cell_type": "code",
   "execution_count": null,
   "id": "675f5565",
   "metadata": {},
   "outputs": [],
   "source": []
  }
 ],
 "metadata": {
  "kernelspec": {
   "display_name": "Python 3 (ipykernel)",
   "language": "python",
   "name": "python3"
  },
  "language_info": {
   "codemirror_mode": {
    "name": "ipython",
    "version": 3
   },
   "file_extension": ".py",
   "mimetype": "text/x-python",
   "name": "python",
   "nbconvert_exporter": "python",
   "pygments_lexer": "ipython3",
   "version": "3.11.5"
  }
 },
 "nbformat": 4,
 "nbformat_minor": 5
}
