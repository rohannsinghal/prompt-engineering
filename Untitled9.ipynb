{
 "cells": [
  {
   "cell_type": "code",
   "execution_count": 1,
   "id": "d9e1660f",
   "metadata": {},
   "outputs": [],
   "source": [
    "import openai\n",
    "import os\n",
    "\n",
    "from dotenv import load_dotenv, find_dotenv\n",
    "_ = load_dotenv(find_dotenv()) # read local .env file\n",
    "\n",
    "openai.api_key  = os.getenv('sk-rohannsinghal-AzxxxxxxxxxiLKUYCgUT3BlbkFJilXlE04RxH5VKNcIpGSp')"
   ]
  },
  {
   "cell_type": "code",
   "execution_count": 2,
   "id": "11ea5f19",
   "metadata": {},
   "outputs": [],
   "source": [
    "def get_completion(prompt, model=\"gpt-3.5-turbo\", temperature=0): \n",
    "    messages = [{\"role\": \"user\", \"content\": prompt}]\n",
    "    response = openai.ChatCompletion.create(\n",
    "        model=model,\n",
    "        messages=messages,\n",
    "        temperature=temperature, \n",
    "    )\n",
    "    return response.choices[0].message[\"content\"]"
   ]
  },
  {
   "cell_type": "code",
   "execution_count": 4,
   "id": "bd6a37c1",
   "metadata": {},
   "outputs": [
    {
     "name": "stdout",
     "output_type": "stream",
     "text": [
      "Arnav Bansal was a boy who had always felt like an outsider. He had never been in a relationship and didn't have any close friends. He used to have a friend group in high school, but everything changed when he fell for a girl in that group. His feelings for her caused tension and eventually led to the group falling apart.\n",
      "\n",
      "Arnav was also constantly bullied for his dark skin. The taunts and jeers from his classmates made him feel insecure and ashamed of his appearance. He started using skin-lightening creams in the hopes of fitting in and being accepted by his peers.\n",
      "\n",
      "Despite facing these challenges, Arnav had big dreams for his future. He wanted to make a difference in the world and have a successful career. However, he ended up in a below-average college and realized that his dreams may never come true. He felt like he was destined for a mediocre life, doing average things and never reaching his full potential.\n",
      "\n",
      "One day, Arnav had a realization. He understood that his desire for success had clouded his judgment and made him lose sight of what truly mattered. He realized that he had been chasing after the wrong things and that true happiness came from within.\n",
      "\n",
      "Arnav decided to embrace his dark skin and be proud of who he was. He stopped using the skin-lightening creams and started to love himself for who he was. He also let go of his obsession with success and instead focused on finding joy in the simple things in life.\n",
      "\n",
      "As time passed, Arnav's confidence grew, and he started to make new friends who accepted him for who he was. He found a job that he enjoyed and felt fulfilled in his work. Despite his past struggles and setbacks, Arnav had finally found peace and contentment in his life.\n",
      "\n",
      "In the end, Arnav realized that true happiness came from self-acceptance and living authentically. He may not have achieved his original dreams, but he had found something even more valuable – inner peace and a sense of belonging. And that, to him, was the greatest success of all.\n"
     ]
    }
   ],
   "source": [
    "openai.api_key = 'sk-rohannsinghal-AxxxxxxxxxLKUYCgUT3BlbkFJilXlE04RxH5VKNcIpGSp'\n",
    "\n",
    "prompt = \"\"\"\n",
    "Write a short story about a boy named Arnav Bansal. \n",
    "He has been single all his life and doesn't have any friends. \n",
    "He used to have a friend group but ended up falling for a girl in that group and ruined everything. \n",
    "Arnav is dark-skinned, and he gets bullied a lot about it and is trying to lighten his skin. \n",
    "He had big dreams in his life but ended up in a below-average college and will most likely end up in an average job doing average things in life. \n",
    "Although he thinks he doesn't believe in corruption, if he became a civil servant he would definitely do corruption. \n",
    "Despite his meaningless and boring life, the ending of his story should be good.\n",
    "\"\"\"\n",
    "response=get_completion(prompt)\n",
    "print(response)"
   ]
  },
  {
   "cell_type": "code",
   "execution_count": null,
   "id": "b1471212",
   "metadata": {},
   "outputs": [],
   "source": []
  }
 ],
 "metadata": {
  "kernelspec": {
   "display_name": "Python 3 (ipykernel)",
   "language": "python",
   "name": "python3"
  },
  "language_info": {
   "codemirror_mode": {
    "name": "ipython",
    "version": 3
   },
   "file_extension": ".py",
   "mimetype": "text/x-python",
   "name": "python",
   "nbconvert_exporter": "python",
   "pygments_lexer": "ipython3",
   "version": "3.11.5"
  }
 },
 "nbformat": 4,
 "nbformat_minor": 5
}
